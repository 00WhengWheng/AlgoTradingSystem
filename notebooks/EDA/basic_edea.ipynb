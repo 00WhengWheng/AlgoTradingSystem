{
 "cells": [
  {
   "cell_type": "code",
   "execution_count": null,
   "metadata": {},
   "outputs": [],
   "source": [
    "# Example: Basic EDA\n",
    "import pandas as pd\n",
    "import matplotlib.pyplot as plt\n",
    "\n",
    "data = pd.read_csv('../data/processed/AAPL.csv', index_col='Date', parse_dates=True)\n",
    "print(data.info())\n",
    "print(data.describe())\n",
    "plt.plot(data['Close'])\n",
    "plt.title('Closing Price Over Time')\n",
    "plt.show()\n"
   ]
  }
 ],
 "metadata": {
  "language_info": {
   "name": "python"
  }
 },
 "nbformat": 4,
 "nbformat_minor": 2
}
